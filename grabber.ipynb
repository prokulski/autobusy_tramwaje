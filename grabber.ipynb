{
 "cells": [
  {
   "cell_type": "code",
   "execution_count": 1,
   "metadata": {
    "ExecuteTime": {
     "end_time": "2019-12-05T09:41:44.239530Z",
     "start_time": "2019-12-05T09:41:42.462704Z"
    }
   },
   "outputs": [],
   "source": [
    "import urllib.request\n",
    "import urllib.error\n",
    "import json\n",
    "import time\n",
    "import pandas as pd\n",
    "import numpy as np\n",
    "import sqlite3\n",
    "import folium"
   ]
  },
  {
   "cell_type": "code",
   "execution_count": 2,
   "metadata": {
    "ExecuteTime": {
     "end_time": "2019-12-05T09:41:44.248974Z",
     "start_time": "2019-12-05T09:41:44.243919Z"
    }
   },
   "outputs": [],
   "source": [
    "apikey=\"47542590-50ec-4ed3-9088-834d0a06ed75\"\n",
    "resource_id=\"f2e5503e927d-4ad3-9500-4ab9e55deb59\""
   ]
  },
  {
   "cell_type": "code",
   "execution_count": 3,
   "metadata": {
    "ExecuteTime": {
     "end_time": "2019-12-05T09:41:44.282888Z",
     "start_time": "2019-12-05T09:41:44.257287Z"
    },
    "code_folding": []
   },
   "outputs": [
    {
     "data": {
      "text/plain": [
       "<sqlite3.Cursor at 0x7fe6f4748ce0>"
      ]
     },
     "execution_count": 3,
     "metadata": {},
     "output_type": "execute_result"
    }
   ],
   "source": [
    "# tworzymy bazę danych\n",
    "db_conn = sqlite3.connect(\"autobusy_i_tramwaje.sqlite\", detect_types=sqlite3.PARSE_DECLTYPES)\n",
    "c = db_conn.cursor()\n",
    "\n",
    "# usuwamy tabelę jeśli istniała\n",
    "c.execute('''CREATE TABLE IF NOT EXISTS buses\n",
    "             (\n",
    "                line TEXT,\n",
    "                time DATETIME,\n",
    "                long DOUBLE,\n",
    "                lat DOUBLE,\n",
    "                brigade TEXT\n",
    "             )\n",
    "             ''')\n",
    "\n",
    "# usuwamy tabelę jeśli istniała\n",
    "c.execute('''CREATE TABLE IF NOT EXISTS trams\n",
    "             (\n",
    "                line TEXT,\n",
    "                time DATETIME,\n",
    "                long DOUBLE,\n",
    "                lat DOUBLE,\n",
    "                brigade TEXT\n",
    "             )\n",
    "             ''')\n"
   ]
  },
  {
   "cell_type": "code",
   "execution_count": null,
   "metadata": {
    "ExecuteTime": {
     "start_time": "2019-12-05T09:41:42.424Z"
    },
    "code_folding": []
   },
   "outputs": [],
   "source": [
    "def get_json_from_api(query_url):\n",
    "    error = False\n",
    "\n",
    "    try:\n",
    "        j = urllib.request.urlopen(query_url)\n",
    "    except urllib.error.HTTPError as e:\n",
    "        # Return code error (e.g. 404, 501, ...)\n",
    "        logging.warning('== API Error - HTTPError: {}'.format(e.code))\n",
    "        error = True\n",
    "    except urllib.error.URLError as e:\n",
    "        # Not an HTTP-specific error (e.g. connection refused)\n",
    "        logging.warning('== API Error - URLError: {}'.format(e.reason))\n",
    "        error = True\n",
    "\n",
    "    if not error:\n",
    "        j = json.loads(j.read().decode())\n",
    "        return True, j\n",
    "\n",
    "    return False, None\n"
   ]
  },
  {
   "cell_type": "code",
   "execution_count": null,
   "metadata": {
    "ExecuteTime": {
     "start_time": "2019-12-05T09:41:42.426Z"
    },
    "code_folding": []
   },
   "outputs": [],
   "source": [
    "def get_buses():\n",
    "    query_url = f\"https://api.um.warszawa.pl/api/action/busestrams_get/?resource_id={resource_id}&type=1&apikey={apikey}\"\n",
    "    success, df = get_json_from_api(query_url)\n",
    "    if success:\n",
    "        df = pd.DataFrame(df['result'])\n",
    "        return df\n",
    "    else:\n",
    "        logging.error(\"Pobranie autobusów nieudane\")\n",
    "        return pd.DataFrame(columns=['Lines', 'Time', 'Lon', 'Lat', 'Brigade'])\n",
    "    \n",
    "def get_trams():\n",
    "    query_url = f\"https://api.um.warszawa.pl/api/action/busestrams_get/?resource_id={resource_id}&type=2&apikey={apikey}\"\n",
    "    success, df = get_json_from_api(query_url)\n",
    "    if success:\n",
    "        df = pd.DataFrame(df['result'])\n",
    "        return df\n",
    "    else:\n",
    "        logging.error(\"Pobranie tramwajów nieudane\")\n",
    "        return pd.DataFrame(columns=['Lines', 'Time', 'Lon', 'Lat', 'Brigade'])\n",
    "    "
   ]
  },
  {
   "cell_type": "code",
   "execution_count": null,
   "metadata": {
    "ExecuteTime": {
     "start_time": "2019-12-05T09:41:42.430Z"
    },
    "code_folding": []
   },
   "outputs": [],
   "source": [
    "def save_buses(db_conn):\n",
    "    buses = get_buses()[['Lines', 'Time', 'Lon', 'Lat', 'Brigade']]\n",
    "    buses.columns = ['line', 'time', 'long', 'lat', 'brigade']\n",
    "    buses['time'] = buses['time'].apply(lambda x: pd.to_datetime(x))\n",
    "    buses.to_sql(\"buses\", db_conn, if_exists=\"append\", index=False)\n",
    "    \n",
    "def save_trams(db_conn):\n",
    "    trams = get_trams()[['Lines', 'Time', 'Lon', 'Lat', 'Brigade']]\n",
    "    trams.columns = ['line', 'time', 'long', 'lat', 'brigade']\n",
    "    trams['time'] = trams['time'].apply(lambda x: pd.to_datetime(x))\n",
    "    trams.to_sql(\"trams\", db_conn, if_exists=\"append\", index=False)"
   ]
  },
  {
   "cell_type": "code",
   "execution_count": null,
   "metadata": {
    "ExecuteTime": {
     "start_time": "2019-12-05T09:41:42.432Z"
    }
   },
   "outputs": [],
   "source": [
    "while True:\n",
    "    save_trams(db_conn)\n",
    "    save_buses(db_conn)\n",
    "    time.sleep(60)"
   ]
  }
 ],
 "metadata": {
  "kernelspec": {
   "display_name": "Python 3",
   "language": "python",
   "name": "python3"
  },
  "language_info": {
   "codemirror_mode": {
    "name": "ipython",
    "version": 3
   },
   "file_extension": ".py",
   "mimetype": "text/x-python",
   "name": "python",
   "nbconvert_exporter": "python",
   "pygments_lexer": "ipython3",
   "version": "3.6.9"
  },
  "varInspector": {
   "cols": {
    "lenName": 16,
    "lenType": 16,
    "lenVar": 40
   },
   "kernels_config": {
    "python": {
     "delete_cmd_postfix": "",
     "delete_cmd_prefix": "del ",
     "library": "var_list.py",
     "varRefreshCmd": "print(var_dic_list())"
    },
    "r": {
     "delete_cmd_postfix": ") ",
     "delete_cmd_prefix": "rm(",
     "library": "var_list.r",
     "varRefreshCmd": "cat(var_dic_list()) "
    }
   },
   "types_to_exclude": [
    "module",
    "function",
    "builtin_function_or_method",
    "instance",
    "_Feature"
   ],
   "window_display": false
  }
 },
 "nbformat": 4,
 "nbformat_minor": 2
}
